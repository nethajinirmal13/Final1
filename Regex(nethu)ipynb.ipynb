{
  "nbformat": 4,
  "nbformat_minor": 0,
  "metadata": {
    "colab": {
      "name": "Regex(nethu)ipynb",
      "provenance": [],
      "collapsed_sections": [],
      "authorship_tag": "ABX9TyN/wxeSdANBzlMfPayZbd+K",
      "include_colab_link": true
    },
    "kernelspec": {
      "name": "python3",
      "display_name": "Python 3"
    },
    "language_info": {
      "name": "python"
    }
  },
  "cells": [
    {
      "cell_type": "markdown",
      "metadata": {
        "id": "view-in-github",
        "colab_type": "text"
      },
      "source": [
        "<a href=\"https://colab.research.google.com/github/nethajinirmal13/Final1/blob/master/Regex(nethu)ipynb.ipynb\" target=\"_parent\"><img src=\"https://colab.research.google.com/assets/colab-badge.svg\" alt=\"Open In Colab\"/></a>"
      ]
    },
    {
      "cell_type": "markdown",
      "source": [
        ""
      ],
      "metadata": {
        "id": "WdsmxgYo028j"
      }
    },
    {
      "cell_type": "markdown",
      "source": [
        "A Regular Expression (RegEx) is a sequence of characters that defines a search pattern"
      ],
      "metadata": {
        "id": "YRJz74Jr0m5F"
      }
    },
    {
      "cell_type": "markdown",
      "source": [
        "\n",
        "\n",
        "*   Python regex methods\n",
        "*   Regex Match object methods\n",
        "\n",
        "*   Regex Metacharacters\n",
        "*   Regex special sequences\n",
        "\n",
        "\n",
        "*   Regex Quantifiers\n",
        "*   Regex flags\n",
        "\n",
        "\n",
        "\n",
        "\n",
        "\n",
        "\n",
        "\n"
      ],
      "metadata": {
        "id": "z76eto1s3MyB"
      }
    },
    {
      "cell_type": "markdown",
      "source": [
        "#re.compile('pattern')\n",
        "Compile a regular expression pattern provided as a string into a re.Pattern object.\n"
      ],
      "metadata": {
        "id": "gnQwjcLU9_ZD"
      }
    },
    {
      "cell_type": "code",
      "source": [
        "import re\n",
        "\n",
        "# Target String one\n",
        "str1 = \"nethaji  marks are 190 200 200 11\"\n",
        "\n",
        "# pattern to find three consecutive digits\n",
        "string_pattern = \"\\w{3}\"\n",
        "# compile string pattern to re.Pattern object\n",
        "regex_pattern = re.compile(string_pattern)\n",
        "\n",
        "# print the type of compiled pattern\n",
        "print(type(regex_pattern))\n",
        "\n",
        "# find all the matches in string one\n",
        "result = regex_pattern.findall(str1)\n",
        "print(result)\n",
        "\n"
      ],
      "metadata": {
        "colab": {
          "base_uri": "https://localhost:8080/"
        },
        "id": "OS-F2j1d7ncu",
        "outputId": "5e3bc0df-6d52-486d-c2be-b5b937487bed"
      },
      "execution_count": 2,
      "outputs": [
        {
          "output_type": "stream",
          "name": "stdout",
          "text": [
            "<class 're.Pattern'>\n",
            "['net', 'haj', 'mar', 'are', '190', '200', '200']\n"
          ]
        }
      ]
    },
    {
      "cell_type": "code",
      "source": [
        "\n"
      ],
      "metadata": {
        "colab": {
          "base_uri": "https://localhost:8080/"
        },
        "id": "kB8X6OTj3EV4",
        "outputId": "b8fbbbc0-0235-43f1-a200-c75863e97035"
      },
      "execution_count": null,
      "outputs": [
        {
          "output_type": "stream",
          "name": "stdout",
          "text": [
            "Enter string to test: kjhqwkudhoqw\n",
            "Password not valid\n"
          ]
        }
      ]
    },
    {
      "cell_type": "markdown",
      "source": [
        "#re.search(pattern, str)\n",
        "Search for occurrences of the regex pattern inside the target string and return only the first match.\n"
      ],
      "metadata": {
        "id": "K2BDq-QR-DYi"
      }
    },
    {
      "cell_type": "code",
      "source": [
        "import re\n",
        "\n",
        "# Target String\n",
        "target_string = \"nethaji is a baseball javeline player who was born on June 17\"\n",
        "\n",
        "# search() for eight-letter word\n",
        "result = re.search(\"\\w{8}\", target_string)\n",
        "\n",
        "# Print match object\n",
        "print(\"Match Object\", result)\n",
        "\n",
        "\n",
        "# print the matching word using group() method\n",
        "print(\"Matching word: \", result.group())"
      ],
      "metadata": {
        "colab": {
          "base_uri": "https://localhost:8080/"
        },
        "id": "_kihuF-X9-BH",
        "outputId": "27010dbe-79f9-4f91-dd98-26ee081ee207"
      },
      "execution_count": 3,
      "outputs": [
        {
          "output_type": "stream",
          "name": "stdout",
          "text": [
            "Match Object <re.Match object; span=(13, 21), match='baseball'>\n",
            "Matching word:  baseball\n"
          ]
        }
      ]
    },
    {
      "cell_type": "code",
      "source": [
        ""
      ],
      "metadata": {
        "colab": {
          "base_uri": "https://localhost:8080/"
        },
        "id": "0L9sBQN76L4x",
        "outputId": "19b8499a-edf1-4f62-a09c-fbacc6c5030f"
      },
      "execution_count": null,
      "outputs": [
        {
          "output_type": "stream",
          "name": "stdout",
          "text": [
            "<class 're.Pattern'>\n",
            "['06', '09', '19', '87']\n"
          ]
        }
      ]
    },
    {
      "cell_type": "markdown",
      "source": [
        "#re.match()\n",
        "#re.search()\n",
        "#re.findall()\n"
      ],
      "metadata": {
        "id": "Md-L2xhbHh18"
      }
    },
    {
      "cell_type": "code",
      "source": [
        "\n",
        "import re\n",
        "\n",
        "target_string = \"net is a volleyball player who was born on June 18\"\n",
        "result = re.match(\"\\w{4}\", target_string) \n",
        "\n",
        "# printing the Match object\n",
        "print(\"Match object: \", result)\n",
        "\n",
        "\n",
        "# Extract match value\n",
        "#print(\"Match value: \", result.group())\n"
      ],
      "metadata": {
        "colab": {
          "base_uri": "https://localhost:8080/"
        },
        "id": "upzamnEfHprL",
        "outputId": "4141347d-42f0-40fb-d08b-8d5f0061dd0b"
      },
      "execution_count": null,
      "outputs": [
        {
          "output_type": "stream",
          "name": "stdout",
          "text": [
            "Match object:  None\n"
          ]
        }
      ]
    },
    {
      "cell_type": "markdown",
      "source": [
        "If you use a match() method to match any six-letter word inside the string you will get None because it returns a match only if the pattern is located at the beginning of the string. And as we can see the six-letter word is not present at the start"
      ],
      "metadata": {
        "id": "WicxkQF3IhaL"
      }
    },
    {
      "cell_type": "code",
      "source": [
        "#example for ix letter word match\n",
        "import re\n",
        "\n",
        "target_string = \"guvi loves Python and pandas\"\n",
        "# Match six-letter word\n",
        "pattern = \"\\w{5}\"\n",
        "\n",
        "# match() method\n",
        "result = re.match(pattern, target_string)\n",
        "print(result)\n",
        "#print(result.group())\n",
        "\n",
        "\n",
        "# search() method\n",
        "result = re.search(pattern, target_string)\n",
        "print(result.group()) \n",
        "\n",
        "\n",
        "# findall() method\n",
        "result = re.findall(pattern, target_string)\n",
        "print(result) \n"
      ],
      "metadata": {
        "colab": {
          "base_uri": "https://localhost:8080/"
        },
        "id": "DkQ-pNW9IGJn",
        "outputId": "a9518d6a-cdf5-452c-aba1-47c109560aee"
      },
      "execution_count": 5,
      "outputs": [
        {
          "output_type": "stream",
          "name": "stdout",
          "text": [
            "None\n",
            "loves\n",
            "['loves', 'Pytho', 'panda']\n"
          ]
        }
      ]
    },
    {
      "cell_type": "code",
      "source": [
        "import re\n",
        "\n",
        "target_string = \"datass and science batch\"\n",
        "\n",
        "# Match five-letter word\n",
        "\n",
        "#res = re.match(r\"\\b\\w{5}\\b\", target_string)\n",
        "res = re.search(r\"\\b\\w{5}\\b\", target_string)\n",
        "\n",
        "#Placing r or R before a string literal creates what is known as a raw-string literal. Raw strings do not process escape sequences ( \\n , \\b , etc.) and are thus commonly used for Regex patterns, which often contain a lot of \\ characters\n",
        "\n",
        "# printing entire match object\n",
        "print(res)\n",
        "\n",
        "\n",
        "# Extract Matching value\n",
        "print(res.group())\n",
        "\n",
        "\n",
        "# Start index of a match\n",
        "print(res.start())\n",
        "\n",
        "\n",
        "# End index of a match\n",
        "print(\"End index: \", res.end())  # 5\n",
        "\n",
        "# Start and end index of a match\n",
        "pos = res.span()\n",
        "print(pos)\n",
        "\n",
        "\n",
        "# Use span to retrieve the matching string\n",
        "print(target_string[pos[0]:pos[1]])\n"
      ],
      "metadata": {
        "colab": {
          "base_uri": "https://localhost:8080/"
        },
        "id": "veHorjSLI44r",
        "outputId": "25b5ba7e-46ad-4cd4-e21b-869ff99c7cb7"
      },
      "execution_count": null,
      "outputs": [
        {
          "output_type": "stream",
          "name": "stdout",
          "text": [
            "<re.Match object; span=(19, 24), match='batch'>\n",
            "batch\n",
            "19\n",
            "End index:  24\n",
            "(19, 24)\n",
            "batch\n"
          ]
        }
      ]
    },
    {
      "cell_type": "code",
      "source": [
        "import re \n",
        "pattern =\"[+91]+\\s\\d{10}\"\n",
        "string= input()\n",
        "print (bool(re.match(pattern, string)))"
      ],
      "metadata": {
        "colab": {
          "base_uri": "https://localhost:8080/"
        },
        "id": "neehoE4fTsTM",
        "outputId": "373267b2-0e4e-4015-c4ea-f54467b6fb47"
      },
      "execution_count": null,
      "outputs": [
        {
          "output_type": "stream",
          "name": "stdout",
          "text": [
            "+91 6767676767\n",
            "True\n"
          ]
        }
      ]
    },
    {
      "cell_type": "code",
      "source": [
        "import re\n",
        "\n",
        "str1 = \"nethaji 122 25\"\n",
        "# Match any character\n",
        "print(re.match(r'.', str1))\n",
        "\n",
        "\n",
        "# Match all digits\n",
        "print(re.findall(r'\\d', str1))\n",
        "\n",
        "\n",
        "# Match all numbers\n",
        "# + indicate 1 or more occurence of \\d\n",
        "print(re.findall(r'\\d+', str1))\n",
        "\n",
        "\n",
        "# Match all special characters and symbols\n",
        "str2 = \"Hello #python1!@#$%\"\n",
        "print(re.findall(r'\\W', str2))\n"
      ],
      "metadata": {
        "colab": {
          "base_uri": "https://localhost:8080/"
        },
        "id": "AOw1I75nKWVV",
        "outputId": "44642102-fe10-43ae-f8d1-d9b8cdbdbbfb"
      },
      "execution_count": null,
      "outputs": [
        {
          "output_type": "stream",
          "name": "stdout",
          "text": [
            "<re.Match object; span=(0, 1), match='n'>\n",
            "['1', '2', '2', '2', '5']\n",
            "['122', '25']\n",
            "[' ', '#', '!', '@', '#', '$', '%']\n"
          ]
        }
      ]
    },
    {
      "cell_type": "code",
      "source": [
        "import re\n",
        "pattern = \"[A-Z][a-z]|[0-9]|[@_!#$%^&*()<>?/\\|}{~:]{1,10}$\"\n",
        "pwd = input()\n",
        "print(bool(re.match(pattern,pwd)))"
      ],
      "metadata": {
        "id": "R3YpzMMzazrG",
        "colab": {
          "base_uri": "https://localhost:8080/"
        },
        "outputId": "1034a8a2-c755-4a14-a104-cd14df565605"
      },
      "execution_count": null,
      "outputs": [
        {
          "output_type": "stream",
          "name": "stdout",
          "text": [
            "Aa@2\n",
            "False\n"
          ]
        }
      ]
    },
    {
      "cell_type": "code",
      "source": [
        "import re\n",
        "password = input(\"Enter string to test: \")\n",
        "if re.fullmatch(r'[A-Za-z0-9@#$%^&+=]{8,}', password):\n",
        "    print(\"true\")\n",
        "else:\n",
        "    print(\"false\")"
      ],
      "metadata": {
        "colab": {
          "base_uri": "https://localhost:8080/"
        },
        "id": "hc6vPgMDvKeU",
        "outputId": "7f3d1c48-4670-4dd2-8376-90b453970eee"
      },
      "execution_count": null,
      "outputs": [
        {
          "output_type": "stream",
          "name": "stdout",
          "text": [
            "Enter string to test: a@a3dffh\n",
            "true\n"
          ]
        }
      ]
    },
    {
      "cell_type": "code",
      "source": [
        "import re\n",
        "password = input(\"create your password:\")\n",
        "\n",
        "\n",
        "if len(password)<8:\n",
        "    print('your password is too short')\n",
        "\n",
        "elif not re.search('[a-z]',password):\n",
        "      print(\"enter a valid password\")  \n",
        "\n",
        "elif not re.search('[A-Z]',password):\n",
        "      print(\"enter a valid password\") \n",
        "\n",
        "elif not re.search('[0-9]',password):\n",
        "      print(\"enter a valid password\")\n",
        "\n",
        "elif not  re.search('[@#$]',password):\n",
        "            print(\"enter a valid password\")\n",
        "else:\n",
        "  print(password+\"your password is valid\")"
      ],
      "metadata": {
        "colab": {
          "base_uri": "https://localhost:8080/"
        },
        "id": "VplBinmCYast",
        "outputId": "7c9bb065-7a29-4c32-ff43-8649a20a1ad7"
      },
      "execution_count": null,
      "outputs": [
        {
          "output_type": "stream",
          "name": "stdout",
          "text": [
            "create your password:Asdf@1234\n",
            "Asdf@1234your password is valid\n"
          ]
        }
      ]
    },
    {
      "cell_type": "markdown",
      "source": [
        "#re.search VS re.match\n",
        "\n",
        "The match() checks for a match only at the beginning of the string.\n",
        "The search() checks for a match anywhere in the string."
      ],
      "metadata": {
        "id": "LU5Z9s63KnDE"
      }
    },
    {
      "cell_type": "code",
      "source": [
        "import re\n",
        "\n",
        "target_string = \"netha is a data scientist who was born on June 17, 1993\"\n",
        "\n",
        "# Match 2-digit number\n",
        "# Using match()\n",
        "result = re.match(r'\\d{2}', target_string)\n",
        "print(result)\n",
        "# Output None\n",
        "\n",
        "# Using search()\n",
        "result = re.search(r'\\d{2}', target_string)\n",
        "print(result.group())\n",
        "# Output 17"
      ],
      "metadata": {
        "colab": {
          "base_uri": "https://localhost:8080/"
        },
        "id": "zfjmNjpKKmuq",
        "outputId": "10430b53-0c56-40ec-d64c-90d473db6aa6"
      },
      "execution_count": null,
      "outputs": [
        {
          "output_type": "stream",
          "name": "stdout",
          "text": [
            "None\n",
            "17\n"
          ]
        }
      ]
    },
    {
      "cell_type": "markdown",
      "source": [
        "#re.fullmatch()\n",
        "Unlike the match() method, which performs the pattern matching only at the beginning of the string, the re.fullmatch method returns a match object if and only if the entire target string from the first to the last character matches the regular expression pattern."
      ],
      "metadata": {
        "id": "KvsAv3BeLKcz"
      }
    },
    {
      "cell_type": "code",
      "source": [
        "import re\n",
        "\n",
        "# string length of 40\n",
        "str1 = \"My name is nethaji and my salary is 1000\"\n",
        "print(\"str1 length: \", len(str1))\n",
        "\n",
        "result = re.fullmatch(r\".{40}\", str1)\n",
        "\n",
        "# print entire match object\n",
        "print(result)\n",
        "\n",
        "# print actual match value\n",
        "print(\"Match: \", result.group())"
      ],
      "metadata": {
        "colab": {
          "base_uri": "https://localhost:8080/"
        },
        "id": "vPFZJTSzLO9S",
        "outputId": "efc14b02-627d-4945-c23c-6a1296773c8e"
      },
      "execution_count": null,
      "outputs": [
        {
          "output_type": "stream",
          "name": "stdout",
          "text": [
            "str1 length:  40\n",
            "<re.Match object; span=(0, 40), match='My name is nethaji and my salary is 1000'>\n",
            "Match:  My name is nethaji and my salary is 1000\n"
          ]
        }
      ]
    },
    {
      "cell_type": "markdown",
      "source": [
        "#re.finditer()"
      ],
      "metadata": {
        "id": "kNfq6pa5MJ-P"
      }
    },
    {
      "cell_type": "code",
      "source": [
        "import re\n",
        "\n",
        "target_string = \"nethaji is a data scientist who was born on June 17, 1993. he designed 11 trademarks with a scoring average of 26.12 points per design. rating is 81 .\"\n",
        "\n",
        "# finditer() with regex pattern and target string\n",
        "# \\d{2} to match two consecutive digits \n",
        "result = re.finditer(r\"\\d{2}\", target_string)\n",
        "\n",
        "# print all match object\n",
        "for obj in result:\n",
        "    # print each re.Match object\n",
        "    print(obj)\n",
        "    \n",
        "    # extract each matching number\n",
        "    print(obj.group())"
      ],
      "metadata": {
        "colab": {
          "base_uri": "https://localhost:8080/"
        },
        "id": "GyNa1AR8MKXp",
        "outputId": "f2b76824-a489-453c-e81e-28e5f9fb3119"
      },
      "execution_count": null,
      "outputs": [
        {
          "output_type": "stream",
          "name": "stdout",
          "text": [
            "<re.Match object; span=(49, 51), match='17'>\n",
            "17\n",
            "<re.Match object; span=(53, 55), match='19'>\n",
            "19\n",
            "<re.Match object; span=(55, 57), match='93'>\n",
            "93\n",
            "<re.Match object; span=(71, 73), match='11'>\n",
            "11\n",
            "<re.Match object; span=(111, 113), match='26'>\n",
            "26\n",
            "<re.Match object; span=(114, 116), match='12'>\n",
            "12\n",
            "<re.Match object; span=(146, 148), match='81'>\n",
            "81\n"
          ]
        }
      ]
    },
    {
      "cell_type": "markdown",
      "source": [
        "#re.split()"
      ],
      "metadata": {
        "id": "YZoa2pyMNhqp"
      }
    },
    {
      "cell_type": "code",
      "source": [
        "import re\n",
        "\n",
        "target_string = \"My name is guvi and my lucky numbers are 22 44 66\"\n",
        "# split on white-space \n",
        "word_list = re.split(r\"\\s+\", target_string)\n",
        "print(word_list)"
      ],
      "metadata": {
        "colab": {
          "base_uri": "https://localhost:8080/"
        },
        "id": "9MOK3RryNj5s",
        "outputId": "5c830eb6-005e-42fe-bc53-775602533397"
      },
      "execution_count": null,
      "outputs": [
        {
          "output_type": "stream",
          "name": "stdout",
          "text": [
            "['My', 'name', 'is', 'guvi', 'and', 'my', 'lucky', 'numbers', 'are', '22', '44', '66']\n"
          ]
        }
      ]
    },
    {
      "cell_type": "code",
      "source": [
        "#limit the spli\n",
        "import re\n",
        "\n",
        "target_string = \"22-44-66\"\n",
        "\n",
        "# Split only on the first occurrence\n",
        "# maxsplit is 1\n",
        "result = re.split(r\"\\D\", target_string, maxsplit=1)\n",
        "print(result)\n",
        "\n",
        "\n",
        "# Split on the three occurrence\n",
        "# maxsplit is 3\n",
        "result = re.split(r\"\\D\", target_string, maxsplit=2)\n",
        "print(result)\n"
      ],
      "metadata": {
        "colab": {
          "base_uri": "https://localhost:8080/"
        },
        "id": "WiSyQT29N4Di",
        "outputId": "ef71a830-63d7-4049-c91c-67c2ec20c30b"
      },
      "execution_count": null,
      "outputs": [
        {
          "output_type": "stream",
          "name": "stdout",
          "text": [
            "['22', '44-66']\n",
            "['22', '44', '66']\n"
          ]
        }
      ]
    },
    {
      "cell_type": "code",
      "source": [
        "#Example to split string by two delimiters\n",
        "\n",
        "import re\n",
        "\n",
        "target_string = \"12,45,78,85-17-89\"\n",
        "# 2 delimiter - and ,\n",
        "# use OR (|) operator to combine two pattern\n",
        "result = re.split(r\"-|,\", target_string)\n",
        "print(result)\n"
      ],
      "metadata": {
        "colab": {
          "base_uri": "https://localhost:8080/"
        },
        "id": "tf-6KXCkOjXF",
        "outputId": "1f8753b0-5cce-46b9-a29e-5e469215855f"
      },
      "execution_count": null,
      "outputs": [
        {
          "output_type": "stream",
          "name": "stdout",
          "text": [
            "['12', '45', '78', '85', '17', '89']\n"
          ]
        }
      ]
    },
    {
      "cell_type": "markdown",
      "source": [
        "**pros**\n",
        "\n",
        "With the re.split() method, you can specify a pattern for the delimiter, while with the defaults split() method, you could have used only a fixed character or set of characters.\n",
        "Also, using re.split() we can split a string by multiple delimiters."
      ],
      "metadata": {
        "id": "cIValal4O-SB"
      }
    },
    {
      "cell_type": "markdown",
      "source": [
        "#re.sub()"
      ],
      "metadata": {
        "id": "ogYIl6iHP8t9"
      }
    },
    {
      "cell_type": "code",
      "source": [
        "import re\n",
        "\n",
        "target_str = \"nethaji nirmal knows testing and machine learning\"\n",
        "res_str = re.sub(r\"\\s\", \"_\", target_str)\n",
        "# String after replacement\n",
        "print(res_str)\n"
      ],
      "metadata": {
        "colab": {
          "base_uri": "https://localhost:8080/"
        },
        "id": "qctFtWgHP-z1",
        "outputId": "b2d6ca60-dba7-4c0b-be0f-fdfdf59c27c0"
      },
      "execution_count": null,
      "outputs": [
        {
          "output_type": "stream",
          "name": "stdout",
          "text": [
            "nethaji_nirmal_knows_testing_and_machine_learning\n"
          ]
        }
      ]
    },
    {
      "cell_type": "code",
      "source": [
        "#Remove all spaces\n",
        "\n",
        "import re\n",
        "\n",
        "target_str = \"     nethaji nirmal knows testing and machine learning.   \"\n",
        "\n",
        "# \\s+ to remove all spaces\n",
        "# + indicate 1 or more occurrence of a space\n",
        "res_str = re.sub(r\"\\s+\", \"\", target_str)\n",
        "# String after replacement\n",
        "print(res_str)\n",
        "# Output 'JessaKnowsTestingAndMachineLearning.'"
      ],
      "metadata": {
        "colab": {
          "base_uri": "https://localhost:8080/"
        },
        "id": "iSA-ZzTKQHLB",
        "outputId": "269b9c02-c3b4-4c86-e80f-36c0ec97263e"
      },
      "execution_count": null,
      "outputs": [
        {
          "output_type": "stream",
          "name": "stdout",
          "text": [
            "nethajinirmalknowstestingandmachinelearning.\n"
          ]
        }
      ]
    },
    {
      "cell_type": "code",
      "source": [
        "!pip install distance"
      ],
      "metadata": {
        "colab": {
          "base_uri": "https://localhost:8080/"
        },
        "id": "-J1xzcIegYvC",
        "outputId": "fdb1737f-ff1c-42f6-bed7-05a81c0a004b"
      },
      "execution_count": null,
      "outputs": [
        {
          "output_type": "stream",
          "name": "stdout",
          "text": [
            "Looking in indexes: https://pypi.org/simple, https://us-python.pkg.dev/colab-wheels/public/simple/\n",
            "Requirement already satisfied: pandas in /usr/local/lib/python3.7/dist-packages (1.3.5)\n",
            "Requirement already satisfied: pytz>=2017.3 in /usr/local/lib/python3.7/dist-packages (from pandas) (2022.1)\n",
            "Requirement already satisfied: python-dateutil>=2.7.3 in /usr/local/lib/python3.7/dist-packages (from pandas) (2.8.2)\n",
            "Requirement already satisfied: numpy>=1.17.3 in /usr/local/lib/python3.7/dist-packages (from pandas) (1.21.6)\n",
            "Requirement already satisfied: six>=1.5 in /usr/local/lib/python3.7/dist-packages (from python-dateutil>=2.7.3->pandas) (1.15.0)\n"
          ]
        }
      ]
    },
    {
      "cell_type": "code",
      "source": [
        "!date"
      ],
      "metadata": {
        "colab": {
          "base_uri": "https://localhost:8080/"
        },
        "id": "sAyUs1B74opC",
        "outputId": "4eae57b2-f2de-4138-81a9-b66dd3c30f26"
      },
      "execution_count": null,
      "outputs": [
        {
          "output_type": "stream",
          "name": "stdout",
          "text": [
            "Sun Jun 19 07:36:51 UTC 2022\n"
          ]
        }
      ]
    },
    {
      "cell_type": "code",
      "source": [
        "import distance\n",
        "\n",
        "distance.jaccard(\"1234\", \"123\")"
      ],
      "metadata": {
        "colab": {
          "base_uri": "https://localhost:8080/"
        },
        "id": "iNampVJNgWt7",
        "outputId": "0799b30c-6f7b-4d31-87d2-ae6ad4c1e867"
      },
      "execution_count": null,
      "outputs": [
        {
          "output_type": "execute_result",
          "data": {
            "text/plain": [
              "0.25"
            ]
          },
          "metadata": {},
          "execution_count": 73
        }
      ]
    },
    {
      "cell_type": "markdown",
      "source": [
        "#task\n",
        "1.Remove leading spaces\n",
        "\n",
        "2.Remove trailing spaces\n",
        "\n",
        "3.change multiple whitespaces with single whitespace using regex"
      ],
      "metadata": {
        "id": "hflzO0mRQaVf"
      }
    },
    {
      "cell_type": "code",
      "source": [
        "import re\n",
        "\n",
        "target_str = \"   nethaji Knows Testing And Machine Learning \\t  .\"\n",
        "\n",
        "# ^\\s+ remove only leading spaces\n",
        "# caret (^) matches only at the start of the string\n",
        "res_str = re.sub(r\"^\\s+\", \"\", target_str)\n",
        "\n",
        "# String after replacement\n",
        "print(res_str)\n",
        "# Output 'Jessa Knows Testing And Machine Learning \t  .'"
      ],
      "metadata": {
        "id": "dk1oVJpTQ8mW",
        "colab": {
          "base_uri": "https://localhost:8080/"
        },
        "outputId": "3ff07353-b43d-494b-e73d-566569bb5cf2"
      },
      "execution_count": null,
      "outputs": [
        {
          "output_type": "stream",
          "name": "stdout",
          "text": [
            "nethaji Knows Testing And Machine Learning \t  .\n"
          ]
        }
      ]
    },
    {
      "cell_type": "code",
      "source": [
        "import re\n",
        "\n",
        "target_str = \"   nethaji Knows Testing And Machine Learning   \\t\\n\"\n",
        "# ^\\s+$ remove only trailing spaces\n",
        "# dollar ($) matches spaces only at the end of the string\n",
        "res_str = re.sub(r\"\\s+$\", \"\", target_str)\n",
        "\n",
        "# String after replacement\n",
        "print(res_str)\n",
        "# Output '   Jessa Knows Testing And Machine Learning'"
      ],
      "metadata": {
        "id": "_SuQL7kbQ5aX",
        "colab": {
          "base_uri": "https://localhost:8080/"
        },
        "outputId": "ae5dc3d2-4ff8-47f6-fa75-f8ae8415401e"
      },
      "execution_count": null,
      "outputs": [
        {
          "output_type": "stream",
          "name": "stdout",
          "text": [
            "   nethaji Knows Testing And Machine Learning\n"
          ]
        }
      ]
    },
    {
      "cell_type": "code",
      "source": [
        "import re\n",
        "\n",
        "target_str = \"   nethaji Knows Testing And Machine Learning   \\t\\n\"\n",
        "# ^\\s+ remove leading spaces\n",
        "# ^\\s+$ removes trailing spaces\n",
        "# | operator to combine both patterns\n",
        "res_str = re.sub(r\"^\\s+|\\s+$\", \"\", target_str)\n",
        "\n",
        "# String after replacement\n",
        "print(res_str)\n",
        "# Output 'Jessa Knows Testing And Machine Learning'"
      ],
      "metadata": {
        "id": "oyYQ_aS2Q1vq",
        "colab": {
          "base_uri": "https://localhost:8080/"
        },
        "outputId": "20378bb5-5f10-4054-f32c-af6b5833fc50"
      },
      "execution_count": null,
      "outputs": [
        {
          "output_type": "stream",
          "name": "stdout",
          "text": [
            "@@@nethaji Knows Testing And Machine Learning@@@\n"
          ]
        }
      ]
    },
    {
      "cell_type": "code",
      "source": [
        "import re\n",
        "\n",
        "target_str = \"nethaji Knows Testing    And Machine     Learning \\t \\n\"\n",
        "\n",
        "# \\s+ to match all whitespaces\n",
        "# replace them using single space \" \"\n",
        "res_str = re.sub(r\"\\s+\", \" \", target_str)\n",
        "\n",
        "# string after replacement\n",
        "print(res_str)\n",
        "# Output 'Jessa Knows Testing And Machine Learning'"
      ],
      "metadata": {
        "id": "RwVSj_9gQvJX"
      },
      "execution_count": null,
      "outputs": []
    },
    {
      "cell_type": "code",
      "source": [
        "#limit the max count od substitutions\n",
        "import re\n",
        "\n",
        "# original string\n",
        "target_str = \"nethaji knows testing and machine learning\"\n",
        "# replace only first occurrence\n",
        "res_str = re.sub(r\"\\s\", \"-\", target_str, count=1)\n",
        "# String after replacement\n",
        "print(res_str)\n",
        "\n",
        "\n",
        "# replace three occurrence\n",
        "res_str = re.sub(r\"\\s\", \"-\", target_str, count=3)\n",
        "print(res_str)\n"
      ],
      "metadata": {
        "colab": {
          "base_uri": "https://localhost:8080/"
        },
        "id": "BAyoDTH2RI4v",
        "outputId": "6545beed-fef9-4c3f-d39a-710557bc8f65"
      },
      "execution_count": null,
      "outputs": [
        {
          "output_type": "stream",
          "name": "stdout",
          "text": [
            "nethaji-knows testing and machine learning\n",
            "nethaji-knows-testing-and machine learning\n"
          ]
        }
      ]
    },
    {
      "cell_type": "markdown",
      "source": [
        "Specify Pattern Using RegEx\n",
        "To specify regular expressions, metacharacters are used. "
      ],
      "metadata": {
        "id": "r9gBsqcP1qCj"
      }
    },
    {
      "cell_type": "markdown",
      "source": [
        "MetaCharacters\n",
        "Metacharacters are characters that are interpreted in a special way by a RegEx engine. Here's a list of metacharacters:\n",
        "\n",
        "[] . ^ $ * + ? {} () \\ |"
      ],
      "metadata": {
        "id": "XnMI458l1qro"
      }
    },
    {
      "cell_type": "code",
      "source": [
        "Meta character\n",
        "Description\n",
        "\\\tMarks the next character as either a special character or a literal. For example, n matches the character n, whereas \\n matches a newline character. The sequence \\\\ matches \\ and \\( matches (.\n",
        "^\tMatches the beginning of input.\n",
        "$\tMatches the end of input.\n",
        "*\tMatches the preceding character zero or more times. For example, zo* matches either z or zoo.\n",
        "+\tMatches the preceding character one or more times. For example, zo+ matches zoo but not z.\n",
        "?\tMatches the preceding character zero or one time. For example, a?ve? matches the ve in never.\n",
        ".\tMatches any single character except a newline character.\n",
        "\n",
        "\n",
        "\\A\tMatches only at beginning of a string.\n",
        "\\b\tMatches a word boundary, that is, the position between a word and a space. For example, er\\b matches the er in never but not the er in verb.\n",
        "\\B\tMatches a nonword boundary. The ea*r\\B expression matches the ear in never early.\n",
        "\\d\tMatches a digit character.\n",
        "\\D\tMatches a non-digit character.\n",
        "\\f\tMatches a form-feed character.\n",
        "\\n\tMatches a newline character.\n",
        "\\r\tMatches a carriage return character.\n",
        "\\s\tMatches any white space including spaces, tabs, form-feed characters, and so on.\n",
        "\\S\tMatches any non-white space character.\n",
        "\\t\tMatches a tab character.\n",
        "\\v\tMatches a vertical tab character.\n",
        "\\w\tMatches any word character including underscore. This expression is equivalent to [A-Za-z0-9_].\n",
        "\\W\tMatches any non-word character. This expression is equivalent to [^A-Za-z0-9_].\n",
        "\\z\tMatches only the end of a string.\n",
        "\\Z\tMatches only the end of a string, or before a newline character at the end."
      ],
      "metadata": {
        "id": "PzCen3Ym0oKG"
      },
      "execution_count": null,
      "outputs": []
    },
    {
      "cell_type": "markdown",
      "source": [
        "### This module provides regular expression matching operations.\n",
        "\n",
        "Below is a list of expressions and what they match to. \n",
        "\n",
        "| Expression | Matches With                   |\n",
        "| ---------- | -----------------------------  |\n",
        "| `abc...`   | lowercase letter               |\n",
        "| `123…`     | Digits                         |\n",
        "| `\\d`       | Any Digit                      |\n",
        "| `'\\D'`     | Any Non-digit character        |\n",
        "| `.`        | Any Character                  |\n",
        "| `\\.`       | Period                         |\n",
        "| `[abc]`    | Only a, b, or c                |\n",
        "| `\\.`       | Period                         |\n",
        "| `[abc]`    | Only a, b, or c                |\n",
        "| `[^abc]`   | Not a, b, nor c                |\n",
        "| `[a-z]`    | Characters a to z              |\n",
        "| `[0-9]`    | Numbers 0 to 9                 |\n",
        "| `\\w`       | Any Alphanumeric character     |\n",
        "| `\\W`       | Any Non-alphanumeric character |\n",
        "| `{m}`      | m Repetitions                  |\n",
        "| `{m,n}`    | m to n Repetitions             |\n",
        "| `\\*`       | Zero or more repetitions       |\n",
        "| `\\+`       | One or more repetitions        |\n",
        "| `?`        | Optional character             |\n",
        "| `\\s`       | Any Whitespace                 |\n",
        "| `\\S`       | Any Non-whitespace character   |\n",
        "| `^…$`      | Starts and ends                |\n",
        "| `(…)`      | Capture Group                  |"
      ],
      "metadata": {
        "id": "4JJ5wGe-2DQF"
      }
    },
    {
      "cell_type": "code",
      "source": [
        ""
      ],
      "metadata": {
        "id": "EAFq-o4flN4d"
      },
      "execution_count": null,
      "outputs": []
    },
    {
      "cell_type": "code",
      "source": [
        ""
      ],
      "metadata": {
        "id": "TsfZkcE02PFs"
      },
      "execution_count": null,
      "outputs": []
    },
    {
      "cell_type": "markdown",
      "source": [
        "The following is a table of the repetition markers available for use in regular expressions:\n",
        "\n",
        "| Character | Description | Example |\n",
        "|-----------|-------------|---------|\n",
        "| ``?`` | Match zero or one repetitions of preceding  | ``\"ab?\"`` matches ``\"a\"`` or ``\"ab\"`` |\n",
        "| ``*`` | Match zero or more repetitions of preceding | ``\"ab*\"`` matches ``\"a\"``, ``\"ab\"``, ``\"abb\"``, ``\"abbb\"``... |\n",
        "| ``+`` | Match one or more repetitions of preceding  | ``\"ab+\"`` matches ``\"ab\"``, ``\"abb\"``, ``\"abbb\"``... but not ``\"a\"`` |\n",
        "| ``{n}`` | Match ``n`` repetitions of preeeding | ``\"ab{2}\"`` matches ``\"abb\"`` |\n",
        "| ``{m,n}`` | Match between ``m`` and ``n`` repetitions of preceding | ``\"ab{2,3}\"`` matches ``\"abb\"`` or ``\"abbb\"`` |"
      ],
      "metadata": {
        "id": "ljV2XPuY2Pgt"
      }
    }
  ]
}